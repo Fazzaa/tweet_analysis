{
 "cells": [
  {
   "cell_type": "code",
   "execution_count": 20,
   "metadata": {},
   "outputs": [],
   "source": [
    "import os\n",
    "from bson.json_util import dumps\n",
    "from path import *\n",
    "from wordcloud import WordCloud, ImageColorGenerator\n",
    "import matplotlib.pyplot as plt\n",
    "import numpy as np\n",
    "from PIL import Image\n"
   ]
  },
  {
   "cell_type": "markdown",
   "metadata": {},
   "source": [
    "### Utils"
   ]
  },
  {
   "cell_type": "code",
   "execution_count": 21,
   "metadata": {},
   "outputs": [],
   "source": [
    "def convert_from_list_to_dict(list):\n",
    "    dict = {}\n",
    "    for el in list:\n",
    "        dict[el[0]] = int(el[1])\n",
    "    return dict "
   ]
  },
  {
   "cell_type": "markdown",
   "metadata": {},
   "source": [
    "### Generatore di WordCloud"
   ]
  },
  {
   "cell_type": "code",
   "execution_count": 5,
   "metadata": {},
   "outputs": [],
   "source": [
    "def generate_wordcloud(counter):\n",
    "\tpink_mask = np.array(Image.open(MASK_PATH))\n",
    "\twc = WordCloud(width = 800, height = 800, background_color='white', mask=pink_mask).generate_from_frequencies(counter)\n",
    "\timage_colors = ImageColorGenerator(pink_mask)\n",
    "\twc.recolor(color_func = image_colors) \n",
    "\tplt.figure(figsize = (8, 8), facecolor = \"black\")\n",
    "\tplt.imshow(wc)\n",
    "\tplt.axis(\"off\")\n",
    "\tplt.show()"
   ]
  },
  {
   "cell_type": "markdown",
   "metadata": {},
   "source": [
    "#### Generatore di EmojiCloud"
   ]
  },
  {
   "cell_type": "code",
   "execution_count": 6,
   "metadata": {},
   "outputs": [],
   "source": [
    "def generate_emojicloud(counter):\n",
    "\tpink_mask = np.array(Image.open(MASK_PATH))\n",
    "\twc = WordCloud(width = 800, height = 800, background_color='white', font_path = \"Symbola.otf\", mask=pink_mask).generate_from_frequencies(counter )\n",
    "\timage_colors = ImageColorGenerator(pink_mask)\n",
    "\twc.recolor(color_func = image_colors) \n",
    "\tplt.figure(figsize = (8, 8), facecolor = \"black\")\n",
    "\tplt.imshow(wc)\n",
    "\tplt.axis(\"off\")\n",
    "\tplt.show()"
   ]
  },
  {
   "cell_type": "markdown",
   "metadata": {},
   "source": []
  },
  {
   "cell_type": "markdown",
   "metadata": {},
   "source": [
    "### MongoDB\n",
    "Goal 1: per creare le word clouds per ciascun sentimento, per ciascun sentiment file,\n",
    "usare la aggregation pipeline e calcolare la frequenza totale nei messaggi Twitter di ciascun token: word, hashtag, emoji, emoticon\n",
    "\n",
    "Goal 2: calcolare le statistiche (percentuali) delle parole delle risorse lessicali presenti anche nei messaggi di Twitter"
   ]
  },
  {
   "cell_type": "code",
   "execution_count": null,
   "metadata": {},
   "outputs": [],
   "source": []
  },
  {
   "cell_type": "markdown",
   "metadata": {},
   "source": [
    "### Relazionale\n",
    "1. list the lexical resources containing each word, so that\n",
    "we can rely upon a unique resource source obtained by\n",
    "the fusion of the single resources.\n",
    "2. count the number of occurrences of each word in the\n",
    "Twitter messages for each emotion so that at the end we\n",
    "can draw a word cloud associated to the most frequent\n",
    "words in each emotion."
   ]
  },
  {
   "cell_type": "code",
   "execution_count": 5,
   "metadata": {},
   "outputs": [],
   "source": [
    "import mysql.connector"
   ]
  },
  {
   "cell_type": "markdown",
   "metadata": {},
   "source": [
    "### Connection"
   ]
  },
  {
   "cell_type": "code",
   "execution_count": 6,
   "metadata": {},
   "outputs": [],
   "source": [
    "PW = 'root'\n",
    "\n",
    "def create_db_connection(host_name, user_name, user_password, db_name):\n",
    "\tconnection = mysql.connector.connect(\n",
    "\t\thost=host_name,\n",
    "\t\tuser=user_name,\n",
    "\t\tpasswd=user_password,\n",
    "\t\tdatabase=db_name\n",
    "\t)\n",
    "\treturn connection\n",
    "\n",
    "CONNECTION = create_db_connection(\"localhost\", \"root\", PW, 'maadb_project')"
   ]
  },
  {
   "cell_type": "markdown",
   "metadata": {},
   "source": [
    "#### Utils"
   ]
  },
  {
   "cell_type": "code",
   "execution_count": 43,
   "metadata": {},
   "outputs": [],
   "source": [
    "COLORMAP = {\n",
    "\t\"anger\": \"mediumvioletred\",\n",
    "\t\"anticipation\": \"orange\",\n",
    "\t\"disgust\": \"violet\",\n",
    "\t\"fear\": \"forestgreen\",\n",
    "\t\"joy\": \"yellow\",\n",
    "\t\"sadness\": \"darkviolet\",\n",
    "\t\"surprise\": \"mediumaquamarine\",\n",
    "\t\"trust\": \"yellowgreen\"\n",
    "}"
   ]
  },
  {
   "cell_type": "markdown",
   "metadata": {},
   "source": [
    "### Query"
   ]
  },
  {
   "cell_type": "code",
   "execution_count": 2,
   "metadata": {},
   "outputs": [],
   "source": [
    "def get_data_from_db(query):\n",
    "    cursor = CONNECTION.cursor()\n",
    "    cursor.execute(query)\n",
    "    return cursor\n",
    "\n",
    "def get_sentiment():\n",
    "    return get_data_from_db(\"SELECT * FROM sentiment;\")\n",
    "  \n",
    "def get_words_and_frequency(sentiment, num_words):\n",
    "    return get_data_from_db(f\"\"\"SELECT lemma, sum(frequence) AS occurrences\n",
    "                                        FROM (\n",
    "                                            SELECT *\n",
    "                                            FROM wordsintweet\n",
    "                                            WHERE wordsintweet.id_tweet IN (\n",
    "                                                SELECT id_tweet\n",
    "                                                FROM tweet\n",
    "                                                WHERE sentiment = '{sentiment}'\n",
    "                                            )\n",
    "                                        ) AS boh JOIN word ON word.id_word = boh.id_word\n",
    "                                        GROUP BY lemma\n",
    "                                        ORDER BY occurrences DESC\n",
    "                                        limit {num_words}\"\"\")\n",
    "\n",
    "def get_tokens_and_frequency(sentiment, num_tokens):\n",
    "    return get_data_from_db(f\"\"\"SELECT token, sum(frequence) AS occurrences\n",
    "                                        FROM (\n",
    "                                            SELECT *\n",
    "                                            FROM tokensintweet\n",
    "                                            WHERE tokensintweet.id_tweet IN (\n",
    "                                                SELECT id_tweet\n",
    "                                                FROM tweet\n",
    "                                                WHERE sentiment = '{sentiment}'\n",
    "                                            )\n",
    "                                        ) AS boh JOIN token ON token.id_token = boh.id_token\n",
    "                                        GROUP BY token\n",
    "                                        ORDER BY occurrences DESC\n",
    "                                        limit {num_tokens}\"\"\")"
   ]
  },
  {
   "cell_type": "code",
   "execution_count": 12,
   "metadata": {},
   "outputs": [],
   "source": [
    "anger_data = get_words_and_frequency(\"anger\", 50).fetchall()\n",
    "#anticipation_data = get_words_and_frequency(\"anticipation\", 50).fetchall()\n",
    "#disgust_data = get_words_and_frequency(\"disgust\", 50).fetchall()\n",
    "#fear_data = get_words_and_frequency(\"fear\", 50).fetchall()\n",
    "#joy_data = get_words_and_frequency(\"joy\", 50).fetchall()\n",
    "#sadness_data = get_words_and_frequency(\"sadness\", 50).fetchall()\n",
    "#surprise_data = get_words_and_frequency(\"surprise\", 50).fetchall()\n",
    "#trust_data = get_words_and_frequency(\"trust\", 50).fetchall()"
   ]
  },
  {
   "cell_type": "code",
   "execution_count": 10,
   "metadata": {},
   "outputs": [],
   "source": [
    "anger_tokens = get_tokens_and_frequency(\"anger\", 50).fetchall()\n",
    "#anticipation_tokens = get_tokens_and_frequency(\"anticipation\", 50).fetchall()\n",
    "#disgust_tokens = get_tokens_and_frequency(\"disgust\", 50).fetchall()\n",
    "#fear_tokens = get_tokens_and_frequency(\"fear\", 50).fetchall()\n",
    "#joy_tokens = get_tokens_and_frequency(\"joy\", 50).fetchall()\n",
    "#sadness_tokens = get_tokens_and_frequency(\"sadness\", 50).fetchall()\n",
    "#surprise_tokens = get_tokens_and_frequency(\"surprise\", 50).fetchall()\n",
    "#trust_tokens = get_tokens_and_frequency(\"trust\", 50).fetchall()"
   ]
  },
  {
   "cell_type": "code",
   "execution_count": null,
   "metadata": {},
   "outputs": [],
   "source": [
    "generate_wordcloud(convert_from_list_to_dict(anger_data))"
   ]
  },
  {
   "cell_type": "code",
   "execution_count": null,
   "metadata": {},
   "outputs": [],
   "source": [
    "generate_wordcloud(convert_from_list_to_dict(anticipation_data))"
   ]
  },
  {
   "cell_type": "code",
   "execution_count": null,
   "metadata": {},
   "outputs": [],
   "source": [
    "generate_wordcloud(convert_from_list_to_dict(disgust_data))"
   ]
  },
  {
   "cell_type": "code",
   "execution_count": null,
   "metadata": {},
   "outputs": [],
   "source": [
    "generate_wordcloud(convert_from_list_to_dict(fear_data))"
   ]
  },
  {
   "cell_type": "code",
   "execution_count": null,
   "metadata": {},
   "outputs": [],
   "source": [
    "generate_wordcloud(convert_from_list_to_dict(joy_data))"
   ]
  },
  {
   "cell_type": "code",
   "execution_count": null,
   "metadata": {},
   "outputs": [],
   "source": [
    "generate_wordcloud(convert_from_list_to_dict(sadness_data))"
   ]
  },
  {
   "cell_type": "code",
   "execution_count": null,
   "metadata": {},
   "outputs": [],
   "source": [
    "generate_wordcloud(convert_from_list_to_dict(surprise_data))"
   ]
  },
  {
   "cell_type": "code",
   "execution_count": null,
   "metadata": {},
   "outputs": [],
   "source": [
    "generate_wordcloud(convert_from_list_to_dict(trust_data))"
   ]
  },
  {
   "cell_type": "code",
   "execution_count": null,
   "metadata": {},
   "outputs": [],
   "source": [
    "generate_emojicloud(convert_from_list_to_dict(anger_tokens))"
   ]
  },
  {
   "cell_type": "code",
   "execution_count": null,
   "metadata": {},
   "outputs": [],
   "source": [
    "generate_emojicloud(convert_from_list_to_dict(trust_tokens))"
   ]
  },
  {
   "cell_type": "markdown",
   "metadata": {},
   "source": [
    "#### Recupero numero di parole condivise"
   ]
  },
  {
   "cell_type": "code",
   "execution_count": 16,
   "metadata": {},
   "outputs": [],
   "source": [
    "def compute_shared_words():\n",
    "    query = \"\"\" \n",
    "        SELECT sentiment, resource_name, count(*) AS N_shared_words\n",
    "        FROM (\n",
    "            SELECT DISTINCT *\n",
    "            FROM (\n",
    "                SELECT * \n",
    "                FROM wordsinlexres JOIN lexical_resource ON id_lexres = lexical_resource.id_lex_res\n",
    "            ) AS lex_res\n",
    "            WHERE (id_word, sentiment) IN (\n",
    "\t            SELECT id_word, sentiment\n",
    "                FROM wordsintweet JOIN tweet ON tweet.id_tweet = wordsintweet.id_tweet\n",
    "            )\n",
    "        ) AS t1\n",
    "        GROUP BY id_lexres\n",
    "    \"\"\"\n",
    "    data = get_data_from_db(query).fetchall()\n",
    "    return dict(((res, sent), n) for sent, res, n in data)\n",
    "\n",
    "N_shared_words = compute_shared_words()"
   ]
  },
  {
   "cell_type": "markdown",
   "metadata": {},
   "source": [
    "#### Recupero numero parole risorse lessicali da database\n"
   ]
  },
  {
   "cell_type": "code",
   "execution_count": 8,
   "metadata": {},
   "outputs": [
    {
     "name": "stdout",
     "output_type": "stream",
     "text": [
      "{('EmoSN', 'anger'): 354, ('NRC', 'anger'): 1247, ('sentisense', 'anger'): 55, ('NRC', 'anticipation'): 839, ('sentisense', 'anticipation'): 145, ('NRC', 'disgust'): 1058, ('sentisense', 'disgust'): 537, ('sentisense', 'hate'): 16, ('NRC', 'fear'): 1476, ('sentisense', 'fear'): 155, ('sentisense', 'hope'): 51, ('EmoSN', 'joy'): 3734, ('NRC', 'joy'): 689, ('sentisense', 'joy'): 128, ('sentisense', 'like'): 338, ('sentisense', 'love'): 52, ('GI', 'neg'): 1669, ('HL', 'neg'): 4782, ('ET', 'neg'): 1999, ('LIWC', 'neg'): 500, ('GI', 'pos'): 1632, ('HL', 'pos'): 2006, ('ET', 'pos'): 2782, ('LIWC', 'pos'): 405, ('NRC', 'sadness'): 1191, ('sentisense', 'sadness'): 132, ('NRC', 'surprise'): 534, ('sentisense', 'surprise'): 29, ('NRC', 'trust'): 1231}\n"
     ]
    }
   ],
   "source": [
    "def get_number_words_of_lex_res():\n",
    "    query = \"\"\"\n",
    "        SELECT resource_name, sentiment, number_of_words\n",
    "        FROM lexical_resource\n",
    "    \"\"\"\n",
    "    data = get_data_from_db(query).fetchall()\n",
    "    return dict(((res, sent), n) for res, sent, n in data)\n",
    "\n",
    "tot_number_words_dict = get_number_words_of_lex_res()\n",
    "print(tot_number_words_dict)"
   ]
  },
  {
   "cell_type": "markdown",
   "metadata": {},
   "source": [
    "#### Recupero numero parole risorse lessicali da database\n"
   ]
  },
  {
   "cell_type": "code",
   "execution_count": 10,
   "metadata": {},
   "outputs": [],
   "source": [
    "def get_number_words_of_tweets():\n",
    "    query = \"\"\" \n",
    "        SELECT sentiment, count(id_word)\n",
    "        FROM (\n",
    "            SELECT DISTINCT sentiment, id_word\n",
    "            FROM tweet JOIN wordsintweet ON tweet.id_tweet = wordsintweet.id_tweet\n",
    "        ) AS t\n",
    "        GROUP BY sentiment\n",
    "    \"\"\"\n",
    "    data = get_data_from_db(query).fetchall()\n",
    "    return dict(data)\n",
    "\n",
    "tweet_words_of_sent_dict = get_number_words_of_tweets()"
   ]
  },
  {
   "cell_type": "markdown",
   "metadata": {},
   "source": [
    "#### Calcolo risultati\n",
    "Vengono calcolati gli overlap tra le risorse lessicali e i tweet"
   ]
  },
  {
   "cell_type": "code",
   "execution_count": 17,
   "metadata": {},
   "outputs": [],
   "source": [
    "PERC_TWEET = {}\n",
    "PERC_LEX_RES = {}\n",
    "for key in N_shared_words.keys():\n",
    "    res, sent = key\n",
    "    PERC_TWEET[key] = round(N_shared_words[key] / tweet_words_of_sent_dict[sent], 6)\n",
    "    PERC_LEX_RES[key] = round(N_shared_words[key] / tot_number_words_dict[key], 6)"
   ]
  },
  {
   "cell_type": "markdown",
   "metadata": {},
   "source": [
    "#### Supporto per istogrammi"
   ]
  },
  {
   "cell_type": "code",
   "execution_count": 27,
   "metadata": {},
   "outputs": [],
   "source": [
    "def build_plot_label(couples):\n",
    "    labels = []\n",
    "    for res, sent in couples:\n",
    "        res = 'SS' if res == \"sentisense\" else res\n",
    "        res = 'ESN' if res == \"EmoSN\" else res\n",
    "        label = res + '_' + sent[:3]\n",
    "        labels.append(label)\n",
    "    return labels\n",
    "\n",
    "def build_colors(couples):\n",
    "    colors = []\n",
    "    for res, sent in couples:\n",
    "        colors.append(COLORMAP[sent])\n",
    "    return colors"
   ]
  },
  {
   "cell_type": "markdown",
   "metadata": {},
   "source": [
    "#### Istogramma Tweet-Risorse Lessicali\n",
    "Il grafico in questione indica la percentuale di parole all'interno dei tweet, le quali sono presenti all'interno delle risorse lessicali. Il tutto viene diviso per ogni documento analizzato."
   ]
  },
  {
   "cell_type": "code",
   "execution_count": 44,
   "metadata": {},
   "outputs": [
    {
     "data": {
      "image/png": "[encoded data removed]",
      "text/plain": [
       "<Figure size 1440x720 with 1 Axes>"
      ]
     },
     "metadata": {
      "needs_background": "light"
     },
     "output_type": "display_data"
    }
   ],
   "source": [
    "def visualize_tweet_bar_plot(perc_tweet):\n",
    "    tweet_sent = build_plot_label(perc_tweet.keys())\n",
    "    colors = build_colors(perc_tweet.keys())\n",
    "    values = list(perc_tweet.values())\n",
    "    fig = plt.figure(figsize = (20, 10))\n",
    "    plt.bar(tweet_sent, values, color=colors)\n",
    "    plt.xlabel(\"Lexical resources\")\n",
    "    plt.ylabel(\"% of tweets' words in lex resource\")\n",
    "    plt.title(\"Percentage of tweets' word in the considered lexical resources\")\n",
    "    plt.show()\n",
    "\n",
    "visualize_tweet_bar_plot(PERC_TWEET)"
   ]
  },
  {
   "cell_type": "markdown",
   "metadata": {},
   "source": [
    "#### Istogramma Risorse Lessicali-Tweet\n",
    "\n",
    "Il grafico in questione indica la percentuale di parole all'interno delle risorse lessicali, le quali sono state utilizzate all'interno dei tweet. Il tutto viene diviso per ogni documento analizzato."
   ]
  },
  {
   "cell_type": "code",
   "execution_count": 45,
   "metadata": {},
   "outputs": [
    {
     "data": {
      "image/png": "[encoded data removed]",
      "text/plain": [
       "<Figure size 1440x720 with 1 Axes>"
      ]
     },
     "metadata": {
      "needs_background": "light"
     },
     "output_type": "display_data"
    }
   ],
   "source": [
    "def visualize_lex_res_bar_plot(perc_lex_res):\n",
    "    tweet_sent = build_plot_label(perc_lex_res.keys())\n",
    "    colors = build_colors(perc_lex_res.keys())\n",
    "    values = list(perc_lex_res.values())\n",
    "    fig = plt.figure(figsize = (20, 10))\n",
    "    plt.bar(tweet_sent, values, color=colors)\n",
    "    plt.xlabel(\"Lexical resources\")\n",
    "    plt.ylabel(\"% of lex resources' words in tweets\")\n",
    "    plt.title(\"Percentage of lex resources' words in the considered tweets\")\n",
    "    plt.show()\n",
    "\n",
    "visualize_lex_res_bar_plot(PERC_LEX_RES)"
   ]
  }
 ],
 "metadata": {
  "kernelspec": {
   "display_name": "Python 3",
   "language": "python",
   "name": "python3"
  },
  "language_info": {
   "codemirror_mode": {
    "name": "ipython",
    "version": 3
   },
   "file_extension": ".py",
   "mimetype": "text/x-python",
   "name": "python",
   "nbconvert_exporter": "python",
   "pygments_lexer": "ipython3",
   "version": "3.8.7"
  },
  "orig_nbformat": 4
 },
 "nbformat": 4,
 "nbformat_minor": 2
}
