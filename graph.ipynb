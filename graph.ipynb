{
 "cells": [
  {
   "cell_type": "code",
   "execution_count": 2,
   "metadata": {},
   "outputs": [],
   "source": [
    "import os\n",
    "from bson.json_util import dumps\n",
    "from path import *\n",
    "from wordcloud import WordCloud, ImageColorGenerator\n",
    "import matplotlib.pyplot as plt\n",
    "import numpy as np\n",
    "from PIL import Image"
   ]
  },
  {
   "cell_type": "markdown",
   "metadata": {},
   "source": [
    "### Generatore di wordcloud"
   ]
  },
  {
   "cell_type": "code",
   "execution_count": null,
   "metadata": {},
   "outputs": [],
   "source": [
    "def generate_wordcloud(counter):\n",
    "\tpink_mask = np.array(Image.open(MASK_PATH))\n",
    "\twc = WordCloud(width = 800, height = 800, background_color='white', mask=pink_mask).generate_from_frequencies(counter)\n",
    "\timage_colors = ImageColorGenerator(pink_mask)\n",
    "\twc.recolor(color_func = image_colors) \n",
    "\tplt.figure(figsize = (8, 8), facecolor = None)\n",
    "\tplt.imshow(wc)\n",
    "\tplt.savefig(\"test.png\")\n",
    "\tplt.axis(\"off\")\n",
    "\tplt.tight_layout(pad = 0)\n",
    "\tplt.show()"
   ]
  },
  {
   "cell_type": "markdown",
   "metadata": {},
   "source": [
    "#### Generatore di EmojiCloud"
   ]
  },
  {
   "cell_type": "code",
   "execution_count": null,
   "metadata": {},
   "outputs": [],
   "source": [
    "# Generatore emojicloud\n"
   ]
  },
  {
   "cell_type": "markdown",
   "metadata": {},
   "source": []
  },
  {
   "cell_type": "markdown",
   "metadata": {},
   "source": [
    "### MongoDB\n",
    "Goal 1: per creare le word clouds per ciascun sentimento, per ciascun sentiment file,\n",
    "usare la aggregation pipeline e calcolare la frequenza totale nei messaggi Twitter di ciascun token: word, hashtag, emoji, emoticon\n",
    "\n",
    "Goal 2: calcolare le statistiche (percentuali) delle parole delle risorse lessicali presenti anche nei messaggi di Twitter"
   ]
  },
  {
   "cell_type": "code",
   "execution_count": null,
   "metadata": {},
   "outputs": [],
   "source": []
  },
  {
   "cell_type": "markdown",
   "metadata": {},
   "source": [
    "### Relazionale\n",
    "1. list the lexical resources containing each word, so that\n",
    "we can rely upon a unique resource source obtained by\n",
    "the fusion of the single resources.\n",
    "2. count the number of occurrences of each word in the\n",
    "Twitter messages for each emotion so that at the end we\n",
    "can draw a word cloud associated to the most frequent\n",
    "words in each emotion."
   ]
  }
 ],
 "metadata": {
  "kernelspec": {
   "display_name": "Python 3",
   "language": "python",
   "name": "python3"
  },
  "language_info": {
   "codemirror_mode": {
    "name": "ipython",
    "version": 3
   },
   "file_extension": ".py",
   "mimetype": "text/x-python",
   "name": "python",
   "nbconvert_exporter": "python",
   "pygments_lexer": "ipython3",
   "version": "3.8.7"
  },
  "orig_nbformat": 4
 },
 "nbformat": 4,
 "nbformat_minor": 2
}
