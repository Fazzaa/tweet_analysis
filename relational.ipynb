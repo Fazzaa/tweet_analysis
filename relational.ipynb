{
 "cells": [
  {
   "cell_type": "code",
   "execution_count": 2,
   "metadata": {},
   "outputs": [],
   "source": [
    "import mysql.connector\n",
    "from path import *\n",
    "from mysql.connector import Error as MySqlError\n",
    "from bson.json_util import loads\n",
    "from constants import *\n",
    "import os"
   ]
  },
  {
   "cell_type": "markdown",
   "metadata": {},
   "source": [
    "### Connection "
   ]
  },
  {
   "cell_type": "code",
   "execution_count": 3,
   "metadata": {},
   "outputs": [],
   "source": [
    "PW = 'root'\n",
    "\n",
    "def create_db_connection(host_name, user_name, user_password, db_name):\n",
    "\tconnection = mysql.connector.connect(\n",
    "\t\thost=host_name,\n",
    "\t\tuser=user_name,\n",
    "\t\tpasswd=user_password,\n",
    "\t\tdatabase=db_name\n",
    "\t)\n",
    "\treturn connection\n",
    "\n",
    "CONNECTION = create_db_connection(\"localhost\", \"root\", PW, 'maadb_project')"
   ]
  },
  {
   "cell_type": "markdown",
   "metadata": {},
   "source": [
    "### Utils"
   ]
  },
  {
   "cell_type": "code",
   "execution_count": 6,
   "metadata": {},
   "outputs": [],
   "source": [
    "def retrieve_data_from_json(path):\n",
    "\twith open(path, 'r', encoding='utf8') as f:\n",
    "\t\treturn loads(f.read())\n",
    "\n",
    "def exec_query(query):\n",
    "\tcursor = CONNECTION.cursor()\n",
    "\tcursor.execute(query)\n",
    "\tCONNECTION.commit()\n",
    "\t"
   ]
  },
  {
   "cell_type": "code",
   "execution_count": 5,
   "metadata": {},
   "outputs": [],
   "source": [
    "sentiments = ['anger', 'anticipation', 'disgust', 'fear', 'hate', 'hope', 'joy', 'like', 'love', 'sadness', 'surprise', 'trust', 'pos', 'neg']\n",
    "COMPLETED_OP = \"Operazione riuscita con successo\""
   ]
  },
  {
   "cell_type": "markdown",
   "metadata": {},
   "source": [
    "#### Creazione tabella sentiment"
   ]
  },
  {
   "cell_type": "code",
   "execution_count": null,
   "metadata": {},
   "outputs": [],
   "source": [
    "#exec_query(\"drop table maadb_project.sentiment\", connection)\n",
    "query = \"\"\"CREATE TABLE `maadb_project`.`sentiment` (\n",
    "\t\t\t`nome` VARCHAR(20) NOT NULL, \n",
    "\t\t\tPRIMARY KEY (`nome`));\"\"\"\n",
    "exec_query(query)"
   ]
  },
  {
   "cell_type": "markdown",
   "metadata": {},
   "source": [
    "#### Inserimento dati tabella sentiment"
   ]
  },
  {
   "cell_type": "code",
   "execution_count": null,
   "metadata": {},
   "outputs": [],
   "source": [
    "def insert_sentiments():\n",
    "\tquery = \"\"\"INSERT INTO `maadb_project`.`sentiment` (`nome`)\"\"\"\n",
    "\tinsert = \"\"\"VALUES ('{}'),\"\"\"\n",
    "\tfor s in sentiments:\n",
    "\t\tquery += insert.format(s)\n",
    "\n",
    "\texec_query(query)\n",
    "\n",
    "insert_sentiments()"
   ]
  },
  {
   "cell_type": "markdown",
   "metadata": {},
   "source": [
    "#### Creazione tabella lexical_resource"
   ]
  },
  {
   "cell_type": "code",
   "execution_count": null,
   "metadata": {},
   "outputs": [],
   "source": [
    "#exec_query(\"drop table maadb_project.lexical_resource\", connection)\n",
    "query = \"\"\"CREATE TABLE `maadb_project`.`lexical_resource` (\n",
    "\t\t\t`id_lex_res` INT NOT NULL AUTO_INCREMENT,\n",
    "\t\t\t`sentiment` VARCHAR(20) NOT NULL,\n",
    "\t\t\t`resource_name` VARCHAR(10) NOT NULL,\n",
    "\t\t\t`number_of_words` INT NOT NULL,\n",
    "\t\t\tPRIMARY KEY (`id_lex_res`),\n",
    "\t\t\tCONSTRAINT `sentiment_lexres`\n",
    "\t\t\tFOREIGN KEY (`sentiment`) REFERENCES `maadb_project`.`sentiment` (`nome`)\n",
    "\t\t\tON DELETE RESTRICT ON UPDATE CASCADE);\n",
    "\t\t\"\"\"\n",
    "exec_query(query)"
   ]
  },
  {
   "cell_type": "markdown",
   "metadata": {},
   "source": [
    "#### Inserimento dati tabella lexical_resources"
   ]
  },
  {
   "cell_type": "code",
   "execution_count": null,
   "metadata": {},
   "outputs": [],
   "source": [
    "def insert_lexical_resources():\n",
    "\tpath = f'{PREP_PATH}/LexResources.json'\n",
    "\tlex_res = retrieve_data_from_json(path)\n",
    "\tquery = \"\"\"INSERT INTO `maadb_project`.`lexical_resource` (`sentiment`, `resource_name`, `number_of_words`)\"\"\"\n",
    "\tinsert = \"\"\"VALUES ('{}', '{}', '{}'),\"\"\"\n",
    "\tfor item in lex_res:\n",
    "\t\tquery += insert.format(item[\"sentiment\"], item[\"id\"], item[\"totNumberWords\"])\n",
    "\tprint(\"Lexical Resources correctly inserted\")\n",
    "\n",
    "insert_lexical_resources()"
   ]
  },
  {
   "cell_type": "markdown",
   "metadata": {},
   "source": [
    "#### Creazione tabella word"
   ]
  },
  {
   "cell_type": "code",
   "execution_count": null,
   "metadata": {},
   "outputs": [],
   "source": [
    "#exec_query(\"drop table maadb_project.word\", connection)\n",
    "query = \"\"\"CREATE TABLE `maadb_project`.`word` (\n",
    "\t\t\t`id_word` INT NOT NULL AUTO_INCREMENT,\n",
    "\t\t\t`lemma` VARCHAR(20) NOT NULL,\n",
    "\t\t\tPRIMARY KEY (`id_word`));\"\"\"\n",
    "exec_query(query)"
   ]
  },
  {
   "cell_type": "markdown",
   "metadata": {},
   "source": [
    "#### Inserimento dati tabella word"
   ]
  },
  {
   "cell_type": "code",
   "execution_count": null,
   "metadata": {},
   "outputs": [],
   "source": []
  },
  {
   "cell_type": "markdown",
   "metadata": {},
   "source": [
    "#### Creazione tabella token"
   ]
  },
  {
   "cell_type": "code",
   "execution_count": null,
   "metadata": {},
   "outputs": [],
   "source": [
    "#exec_query(\"drop table maadb_project.token\", connection)\n",
    "query = \"\"\"CREATE TABLE `maadb_project`.`token` (\n",
    "\t\t\t`id_token` INT NOT NULL AUTO_INCREMENT,\n",
    "\t\t\t`token` VARCHAR(20) NOT NULL,\n",
    "\t\t\t`type` VARCHAR(20) NOT NULL,\n",
    "\t\t\tPRIMARY KEY (`id_token`));\"\"\"\n",
    "exec_query(query)"
   ]
  },
  {
   "cell_type": "markdown",
   "metadata": {},
   "source": [
    "#### Inserimento dati tabella token"
   ]
  },
  {
   "cell_type": "code",
   "execution_count": null,
   "metadata": {},
   "outputs": [],
   "source": [
    "def insert_token_of_sent_on_db(path):\n",
    "    data = retrieve_data_from_json(path)\n",
    "    insert_non_words_query = \"INSERT INTO token (token, type) VALUES\"\n",
    "    insert_single_quote = '\\n(\"{}\", \"{}\"),'\n",
    "    insert_double_quote = \"\\n('{}', '{}'),\"\n",
    "    for tweet in data:\n",
    "        for type in ['emojis', 'emoticons']:\n",
    "            for token in tweet[type]:\n",
    "                if token.find('\"') > 0:\n",
    "                    insert_non_words_query += insert_double_quote.format(token, type)\n",
    "                else:\n",
    "                    insert_non_words_query += insert_single_quote.format(token, type)\n",
    "    insert_non_words_query = insert_non_words_query[:-1] + \";\"\n",
    "    exec_query(insert_non_words_query)\n",
    "\n",
    "def insert_token_on_db():\n",
    "    for sent in sentiments:\n",
    "        path = os.path.join(PREP_PATH, f\"preprocessed_tweets_{sent}.json\")\n",
    "        if os.path.exists(path):\n",
    "            insert_token_of_sent_on_db(path)\n",
    "    print(\"Non-word tokens correctly inserted\")\n",
    "\n",
    "insert_token_on_db()"
   ]
  },
  {
   "cell_type": "markdown",
   "metadata": {},
   "source": [
    "#### Creazione tabella tweet"
   ]
  },
  {
   "cell_type": "code",
   "execution_count": null,
   "metadata": {},
   "outputs": [],
   "source": [
    "#exec_query(\"drop table maadb_project.tweet\", connection)\n",
    "query = \"\"\"CREATE TABLE `maadb_project`.`tweet` (\n",
    "\t\t\t`id_tweet` INT NOT NULL AUTO_INCREMENT,\n",
    "\t\t\t`sentiment` VARCHAR(20) NOT NULL,\n",
    "\t\t\t`doc_number` INT NOT NULL,\n",
    "\t\t\tPRIMARY KEY (`id_tweet`),\n",
    "\t\t\tCONSTRAINT `sentiment_tweet`\n",
    "\t\t\tFOREIGN KEY (`sentiment`) REFERENCES `maadb_project`.`sentiment` (`nome`)\n",
    "\t\t\tON DELETE RESTRICT ON UPDATE CASCADE);\"\"\"\n",
    "exec_query(query)\n"
   ]
  },
  {
   "cell_type": "markdown",
   "metadata": {},
   "source": [
    "#### Inserimento dati tabella tweet"
   ]
  },
  {
   "cell_type": "code",
   "execution_count": null,
   "metadata": {},
   "outputs": [],
   "source": [
    "def insert_tweet():\n",
    "\tinsert = \"('{}', '{}'),\"\n",
    "\tfor s in sentiments:\n",
    "\t\tquery = \"\"\"INSERT INTO `maadb_project`.`tweet` (`sentiment`, `doc_number`) VALUES\"\"\"\n",
    "\t\tfor i in range(60000):\n",
    "\t\t\tquery += insert.format(s, i)\n",
    "\t\texec_query(query[:-1] + \";\")\n",
    "\t\tprint(f\"Completed {s}\")\n",
    "insert_tweet()"
   ]
  },
  {
   "cell_type": "markdown",
   "metadata": {},
   "source": [
    "#### Creazione tabella wordsintweet"
   ]
  },
  {
   "cell_type": "code",
   "execution_count": null,
   "metadata": {},
   "outputs": [],
   "source": [
    "#exec_query(\"drop table maadb_project.wordsintweet\", connection)\n",
    "query = \"\"\"CREATE TABLE `maadb_project`.`wordsintweet` (\n",
    "\t\t\t`id_word` INT NOT NULL,\n",
    "\t\t\t`id_tweet` INT NOT NULL,\n",
    "\t\t\t`frequence` INT NOT NULL,\n",
    "\t\t\t`pos_tag` VARCHAR(4) NULL,\n",
    "\t\t\tPRIMARY KEY (`id_word`, `id_tweet`),\n",
    "\t\t\tCONSTRAINT `tweet_id`\n",
    "\t\t\t\tFOREIGN KEY (`id_tweet`) REFERENCES `maadb_project`.`tweet` (`id_tweet`)\n",
    "\t\t\t\tON DELETE CASCADE ON UPDATE CASCADE,\n",
    "\t\t\tCONSTRAINT `word_id`\n",
    "\t\t\t\tFOREIGN KEY (`id_word`) REFERENCES `maadb_project`.`word` (`id_word`)\n",
    "\t\t\t\tON DELETE CASCADE ON UPDATE CASCADE);\"\"\"\n",
    "exec_query(query)"
   ]
  },
  {
   "cell_type": "markdown",
   "metadata": {},
   "source": [
    "#### Inserimento dati tabella wordsintweet"
   ]
  },
  {
   "cell_type": "code",
   "execution_count": null,
   "metadata": {},
   "outputs": [],
   "source": []
  },
  {
   "cell_type": "markdown",
   "metadata": {},
   "source": [
    "#### Creazione tabella tokensintweet"
   ]
  },
  {
   "cell_type": "code",
   "execution_count": null,
   "metadata": {},
   "outputs": [],
   "source": [
    "#exec_query(\"drop table maadb_project.tokenintweet\", connection)\n",
    "query = \"\"\"CREATE TABLE `maadb_project`.`tokensintweet` (\n",
    "\t\t\t`id_token` INT NOT NULL,\n",
    "\t\t\t`id_tweet` INT NOT NULL,\n",
    "\t\t\t`frequence` INT NOT NULL,\n",
    "\t\t\tPRIMARY KEY (`id_token`, `id_tweet`),\n",
    "\t\t\tCONSTRAINT `tweet_token_id`\n",
    "\t\t\t\tFOREIGN KEY (`id_tweet`) REFERENCES `maadb_project`.`tweet` (`id_tweet`)\n",
    "\t\t\t\tON DELETE CASCADE ON UPDATE CASCADE,\n",
    "\t\t\tCONSTRAINT `token_id`\n",
    "\t\t\t\tFOREIGN KEY (`id_token`) REFERENCES `maadb_project`.`token` (`id_token`)\n",
    "\t\t\t\tON DELETE CASCADE ON UPDATE CASCADE);\"\"\"\n",
    "exec_query(query)"
   ]
  },
  {
   "cell_type": "markdown",
   "metadata": {},
   "source": [
    "#### Inserimento dati in tabella tokensintweet"
   ]
  },
  {
   "cell_type": "code",
   "execution_count": null,
   "metadata": {},
   "outputs": [],
   "source": []
  },
  {
   "cell_type": "markdown",
   "metadata": {},
   "source": [
    "#### Creazione tabella wordsinlexres"
   ]
  },
  {
   "cell_type": "code",
   "execution_count": null,
   "metadata": {},
   "outputs": [],
   "source": [
    "#exec_query(\"drop table maadb_project.wordsinlexres\", connection)\n",
    "query = \"\"\"CREATE TABLE `maadb_project`.`wordsinlexres` (\n",
    "\t\t\t`id_word` INT NOT NULL,\n",
    "\t\t\t`id_lexres` INT NOT NULL,\n",
    "\t\t\tPRIMARY KEY (`id_word`, `id_lexres`),\n",
    "\t\t\tCONSTRAINT `id_word_lexres`\n",
    "\t\t\t\tFOREIGN KEY (`id_word`) REFERENCES `maadb_project`.`word` (`id_word`)\n",
    "\t\t\t\tON DELETE CASCADE ON UPDATE CASCADE,\n",
    "\t\t\tCONSTRAINT `id_lexres`\n",
    "\t\t\t\tFOREIGN KEY (`id_lexres`) REFERENCES `maadb_project`.`lexical_resource` (`id_lex_res`)\n",
    "\t\t\t\tON DELETE CASCADE ON UPDATE CASCADE);\"\"\"\n",
    "exec_query(query)"
   ]
  },
  {
   "cell_type": "markdown",
   "metadata": {},
   "source": [
    "#### Inserimento dati in tabella wordsinlexres"
   ]
  },
  {
   "cell_type": "code",
   "execution_count": null,
   "metadata": {},
   "outputs": [],
   "source": []
  }
 ],
 "metadata": {
  "kernelspec": {
   "display_name": "Python 3",
   "language": "python",
   "name": "python3"
  },
  "language_info": {
   "codemirror_mode": {
    "name": "ipython",
    "version": 3
   },
   "file_extension": ".py",
   "mimetype": "text/x-python",
   "name": "python",
   "nbconvert_exporter": "python",
   "pygments_lexer": "ipython3",
   "version": "3.8.7"
  },
  "orig_nbformat": 4
 },
 "nbformat": 4,
 "nbformat_minor": 2
}
